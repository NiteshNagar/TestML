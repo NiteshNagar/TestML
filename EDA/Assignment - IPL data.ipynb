{
 "cells": [
  {
   "cell_type": "markdown",
   "id": "05b5d170",
   "metadata": {},
   "source": [
    "# Assignment  - IPL Data set "
   ]
  },
  {
   "cell_type": "code",
   "execution_count": 67,
   "id": "105dba0c",
   "metadata": {},
   "outputs": [],
   "source": [
    "import numpy as np\n",
    "import pandas as pd \n",
    "import seaborn as sns\n",
    "import matplotlib.pyplot as plt"
   ]
  },
  {
   "cell_type": "code",
   "execution_count": 5,
   "id": "b275af5b",
   "metadata": {},
   "outputs": [],
   "source": [
    "ipl = pd.read_csv(\"IPL_Dataset.csv\")"
   ]
  },
  {
   "cell_type": "code",
   "execution_count": 6,
   "id": "8355e66d",
   "metadata": {},
   "outputs": [
    {
     "data": {
      "text/html": [
       "<div>\n",
       "<style scoped>\n",
       "    .dataframe tbody tr th:only-of-type {\n",
       "        vertical-align: middle;\n",
       "    }\n",
       "\n",
       "    .dataframe tbody tr th {\n",
       "        vertical-align: top;\n",
       "    }\n",
       "\n",
       "    .dataframe thead th {\n",
       "        text-align: right;\n",
       "    }\n",
       "</style>\n",
       "<table border=\"1\" class=\"dataframe\">\n",
       "  <thead>\n",
       "    <tr style=\"text-align: right;\">\n",
       "      <th></th>\n",
       "      <th>POS</th>\n",
       "      <th>Player</th>\n",
       "      <th>Mat</th>\n",
       "      <th>Inns</th>\n",
       "      <th>NO</th>\n",
       "      <th>Runs</th>\n",
       "      <th>HS</th>\n",
       "      <th>Avg</th>\n",
       "      <th>BF</th>\n",
       "      <th>SR</th>\n",
       "      <th>100</th>\n",
       "      <th>50</th>\n",
       "      <th>4s</th>\n",
       "      <th>6s</th>\n",
       "    </tr>\n",
       "  </thead>\n",
       "  <tbody>\n",
       "    <tr>\n",
       "      <th>0</th>\n",
       "      <td>1</td>\n",
       "      <td>KL Rahul</td>\n",
       "      <td>14</td>\n",
       "      <td>14</td>\n",
       "      <td>2</td>\n",
       "      <td>670</td>\n",
       "      <td>132*</td>\n",
       "      <td>55.83</td>\n",
       "      <td>518</td>\n",
       "      <td>129.34</td>\n",
       "      <td>1</td>\n",
       "      <td>5</td>\n",
       "      <td>58</td>\n",
       "      <td>23</td>\n",
       "    </tr>\n",
       "    <tr>\n",
       "      <th>1</th>\n",
       "      <td>2</td>\n",
       "      <td>Shikhar Dhawan</td>\n",
       "      <td>17</td>\n",
       "      <td>17</td>\n",
       "      <td>3</td>\n",
       "      <td>618</td>\n",
       "      <td>106*</td>\n",
       "      <td>44.14</td>\n",
       "      <td>427</td>\n",
       "      <td>144.73</td>\n",
       "      <td>2</td>\n",
       "      <td>4</td>\n",
       "      <td>67</td>\n",
       "      <td>12</td>\n",
       "    </tr>\n",
       "    <tr>\n",
       "      <th>2</th>\n",
       "      <td>3</td>\n",
       "      <td>David Warner</td>\n",
       "      <td>16</td>\n",
       "      <td>16</td>\n",
       "      <td>2</td>\n",
       "      <td>548</td>\n",
       "      <td>85*</td>\n",
       "      <td>39.14</td>\n",
       "      <td>407</td>\n",
       "      <td>134.64</td>\n",
       "      <td>0</td>\n",
       "      <td>4</td>\n",
       "      <td>52</td>\n",
       "      <td>14</td>\n",
       "    </tr>\n",
       "    <tr>\n",
       "      <th>3</th>\n",
       "      <td>4</td>\n",
       "      <td>Shreyas Iyer</td>\n",
       "      <td>17</td>\n",
       "      <td>17</td>\n",
       "      <td>2</td>\n",
       "      <td>519</td>\n",
       "      <td>88*</td>\n",
       "      <td>34.60</td>\n",
       "      <td>421</td>\n",
       "      <td>123.27</td>\n",
       "      <td>0</td>\n",
       "      <td>3</td>\n",
       "      <td>40</td>\n",
       "      <td>16</td>\n",
       "    </tr>\n",
       "    <tr>\n",
       "      <th>4</th>\n",
       "      <td>5</td>\n",
       "      <td>Ishan Kishan</td>\n",
       "      <td>14</td>\n",
       "      <td>13</td>\n",
       "      <td>4</td>\n",
       "      <td>516</td>\n",
       "      <td>99</td>\n",
       "      <td>57.33</td>\n",
       "      <td>354</td>\n",
       "      <td>145.76</td>\n",
       "      <td>0</td>\n",
       "      <td>4</td>\n",
       "      <td>36</td>\n",
       "      <td>30</td>\n",
       "    </tr>\n",
       "    <tr>\n",
       "      <th>...</th>\n",
       "      <td>...</td>\n",
       "      <td>...</td>\n",
       "      <td>...</td>\n",
       "      <td>...</td>\n",
       "      <td>...</td>\n",
       "      <td>...</td>\n",
       "      <td>...</td>\n",
       "      <td>...</td>\n",
       "      <td>...</td>\n",
       "      <td>...</td>\n",
       "      <td>...</td>\n",
       "      <td>...</td>\n",
       "      <td>...</td>\n",
       "      <td>...</td>\n",
       "    </tr>\n",
       "    <tr>\n",
       "      <th>128</th>\n",
       "      <td>129</td>\n",
       "      <td>Khaleel Ahmed</td>\n",
       "      <td>7</td>\n",
       "      <td>1</td>\n",
       "      <td>0</td>\n",
       "      <td>0</td>\n",
       "      <td>0*</td>\n",
       "      <td>0.00</td>\n",
       "      <td>2</td>\n",
       "      <td>0.00</td>\n",
       "      <td>0</td>\n",
       "      <td>0</td>\n",
       "      <td>0</td>\n",
       "      <td>0</td>\n",
       "    </tr>\n",
       "    <tr>\n",
       "      <th>129</th>\n",
       "      <td>130</td>\n",
       "      <td>Arshdeep Singh</td>\n",
       "      <td>8</td>\n",
       "      <td>1</td>\n",
       "      <td>0</td>\n",
       "      <td>0</td>\n",
       "      <td>0*</td>\n",
       "      <td>0.00</td>\n",
       "      <td>3</td>\n",
       "      <td>0.00</td>\n",
       "      <td>0</td>\n",
       "      <td>0</td>\n",
       "      <td>0</td>\n",
       "      <td>0</td>\n",
       "    </tr>\n",
       "    <tr>\n",
       "      <th>130</th>\n",
       "      <td>131</td>\n",
       "      <td>Daniel Sams</td>\n",
       "      <td>3</td>\n",
       "      <td>1</td>\n",
       "      <td>0</td>\n",
       "      <td>0</td>\n",
       "      <td>0*</td>\n",
       "      <td>0.00</td>\n",
       "      <td>2</td>\n",
       "      <td>0.00</td>\n",
       "      <td>0</td>\n",
       "      <td>0</td>\n",
       "      <td>0</td>\n",
       "      <td>0</td>\n",
       "    </tr>\n",
       "    <tr>\n",
       "      <th>131</th>\n",
       "      <td>132</td>\n",
       "      <td>Shreevats Goswami</td>\n",
       "      <td>2</td>\n",
       "      <td>2</td>\n",
       "      <td>0</td>\n",
       "      <td>0</td>\n",
       "      <td>0*</td>\n",
       "      <td>0.00</td>\n",
       "      <td>4</td>\n",
       "      <td>0.00</td>\n",
       "      <td>0</td>\n",
       "      <td>0</td>\n",
       "      <td>0</td>\n",
       "      <td>0</td>\n",
       "    </tr>\n",
       "    <tr>\n",
       "      <th>132</th>\n",
       "      <td>133</td>\n",
       "      <td>Trent Boult</td>\n",
       "      <td>15</td>\n",
       "      <td>1</td>\n",
       "      <td>0</td>\n",
       "      <td>0</td>\n",
       "      <td>0*</td>\n",
       "      <td>0.00</td>\n",
       "      <td>1</td>\n",
       "      <td>0.00</td>\n",
       "      <td>0</td>\n",
       "      <td>0</td>\n",
       "      <td>0</td>\n",
       "      <td>0</td>\n",
       "    </tr>\n",
       "  </tbody>\n",
       "</table>\n",
       "<p>133 rows × 14 columns</p>\n",
       "</div>"
      ],
      "text/plain": [
       "     POS             Player  Mat  Inns  NO  Runs    HS    Avg   BF      SR  \\\n",
       "0      1           KL Rahul   14    14   2   670  132*  55.83  518  129.34   \n",
       "1      2     Shikhar Dhawan   17    17   3   618  106*  44.14  427  144.73   \n",
       "2      3       David Warner   16    16   2   548   85*  39.14  407  134.64   \n",
       "3      4       Shreyas Iyer   17    17   2   519   88*  34.60  421  123.27   \n",
       "4      5       Ishan Kishan   14    13   4   516    99  57.33  354  145.76   \n",
       "..   ...                ...  ...   ...  ..   ...   ...    ...  ...     ...   \n",
       "128  129      Khaleel Ahmed    7     1   0     0    0*   0.00    2    0.00   \n",
       "129  130     Arshdeep Singh    8     1   0     0    0*   0.00    3    0.00   \n",
       "130  131        Daniel Sams    3     1   0     0    0*   0.00    2    0.00   \n",
       "131  132  Shreevats Goswami    2     2   0     0    0*   0.00    4    0.00   \n",
       "132  133        Trent Boult   15     1   0     0    0*   0.00    1    0.00   \n",
       "\n",
       "     100  50  4s  6s  \n",
       "0      1   5  58  23  \n",
       "1      2   4  67  12  \n",
       "2      0   4  52  14  \n",
       "3      0   3  40  16  \n",
       "4      0   4  36  30  \n",
       "..   ...  ..  ..  ..  \n",
       "128    0   0   0   0  \n",
       "129    0   0   0   0  \n",
       "130    0   0   0   0  \n",
       "131    0   0   0   0  \n",
       "132    0   0   0   0  \n",
       "\n",
       "[133 rows x 14 columns]"
      ]
     },
     "execution_count": 6,
     "metadata": {},
     "output_type": "execute_result"
    }
   ],
   "source": [
    "ipl"
   ]
  },
  {
   "cell_type": "code",
   "execution_count": 8,
   "id": "04cd0c72",
   "metadata": {},
   "outputs": [
    {
     "data": {
      "text/html": [
       "<div>\n",
       "<style scoped>\n",
       "    .dataframe tbody tr th:only-of-type {\n",
       "        vertical-align: middle;\n",
       "    }\n",
       "\n",
       "    .dataframe tbody tr th {\n",
       "        vertical-align: top;\n",
       "    }\n",
       "\n",
       "    .dataframe thead th {\n",
       "        text-align: right;\n",
       "    }\n",
       "</style>\n",
       "<table border=\"1\" class=\"dataframe\">\n",
       "  <thead>\n",
       "    <tr style=\"text-align: right;\">\n",
       "      <th></th>\n",
       "      <th>POS</th>\n",
       "      <th>Mat</th>\n",
       "      <th>Inns</th>\n",
       "      <th>NO</th>\n",
       "      <th>Runs</th>\n",
       "      <th>Avg</th>\n",
       "      <th>BF</th>\n",
       "      <th>SR</th>\n",
       "      <th>100</th>\n",
       "      <th>50</th>\n",
       "      <th>4s</th>\n",
       "      <th>6s</th>\n",
       "    </tr>\n",
       "  </thead>\n",
       "  <tbody>\n",
       "    <tr>\n",
       "      <th>count</th>\n",
       "      <td>133.00000</td>\n",
       "      <td>133.000000</td>\n",
       "      <td>133.000000</td>\n",
       "      <td>133.000000</td>\n",
       "      <td>133.000000</td>\n",
       "      <td>133.000000</td>\n",
       "      <td>133.000000</td>\n",
       "      <td>133.000000</td>\n",
       "      <td>133.000000</td>\n",
       "      <td>133.000000</td>\n",
       "      <td>133.000000</td>\n",
       "      <td>133.000000</td>\n",
       "    </tr>\n",
       "    <tr>\n",
       "      <th>mean</th>\n",
       "      <td>67.00000</td>\n",
       "      <td>9.631579</td>\n",
       "      <td>6.631579</td>\n",
       "      <td>1.616541</td>\n",
       "      <td>139.157895</td>\n",
       "      <td>19.366241</td>\n",
       "      <td>105.714286</td>\n",
       "      <td>107.364737</td>\n",
       "      <td>0.037594</td>\n",
       "      <td>0.827068</td>\n",
       "      <td>11.894737</td>\n",
       "      <td>5.518797</td>\n",
       "    </tr>\n",
       "    <tr>\n",
       "      <th>std</th>\n",
       "      <td>38.53786</td>\n",
       "      <td>4.893523</td>\n",
       "      <td>5.030925</td>\n",
       "      <td>1.550766</td>\n",
       "      <td>167.293103</td>\n",
       "      <td>18.053343</td>\n",
       "      <td>122.253870</td>\n",
       "      <td>44.584031</td>\n",
       "      <td>0.227170</td>\n",
       "      <td>1.351269</td>\n",
       "      <td>15.521375</td>\n",
       "      <td>7.393283</td>\n",
       "    </tr>\n",
       "    <tr>\n",
       "      <th>min</th>\n",
       "      <td>1.00000</td>\n",
       "      <td>1.000000</td>\n",
       "      <td>1.000000</td>\n",
       "      <td>0.000000</td>\n",
       "      <td>0.000000</td>\n",
       "      <td>0.000000</td>\n",
       "      <td>1.000000</td>\n",
       "      <td>0.000000</td>\n",
       "      <td>0.000000</td>\n",
       "      <td>0.000000</td>\n",
       "      <td>0.000000</td>\n",
       "      <td>0.000000</td>\n",
       "    </tr>\n",
       "    <tr>\n",
       "      <th>25%</th>\n",
       "      <td>34.00000</td>\n",
       "      <td>5.000000</td>\n",
       "      <td>2.000000</td>\n",
       "      <td>0.000000</td>\n",
       "      <td>10.000000</td>\n",
       "      <td>6.000000</td>\n",
       "      <td>12.000000</td>\n",
       "      <td>88.750000</td>\n",
       "      <td>0.000000</td>\n",
       "      <td>0.000000</td>\n",
       "      <td>0.000000</td>\n",
       "      <td>0.000000</td>\n",
       "    </tr>\n",
       "    <tr>\n",
       "      <th>50%</th>\n",
       "      <td>67.00000</td>\n",
       "      <td>10.000000</td>\n",
       "      <td>5.000000</td>\n",
       "      <td>1.000000</td>\n",
       "      <td>59.000000</td>\n",
       "      <td>15.000000</td>\n",
       "      <td>53.000000</td>\n",
       "      <td>116.840000</td>\n",
       "      <td>0.000000</td>\n",
       "      <td>0.000000</td>\n",
       "      <td>5.000000</td>\n",
       "      <td>2.000000</td>\n",
       "    </tr>\n",
       "    <tr>\n",
       "      <th>75%</th>\n",
       "      <td>100.00000</td>\n",
       "      <td>14.000000</td>\n",
       "      <td>11.000000</td>\n",
       "      <td>2.000000</td>\n",
       "      <td>232.000000</td>\n",
       "      <td>29.900000</td>\n",
       "      <td>169.000000</td>\n",
       "      <td>137.500000</td>\n",
       "      <td>0.000000</td>\n",
       "      <td>1.000000</td>\n",
       "      <td>20.000000</td>\n",
       "      <td>9.000000</td>\n",
       "    </tr>\n",
       "    <tr>\n",
       "      <th>max</th>\n",
       "      <td>133.00000</td>\n",
       "      <td>17.000000</td>\n",
       "      <td>17.000000</td>\n",
       "      <td>7.000000</td>\n",
       "      <td>670.000000</td>\n",
       "      <td>101.000000</td>\n",
       "      <td>518.000000</td>\n",
       "      <td>191.420000</td>\n",
       "      <td>2.000000</td>\n",
       "      <td>5.000000</td>\n",
       "      <td>67.000000</td>\n",
       "      <td>30.000000</td>\n",
       "    </tr>\n",
       "  </tbody>\n",
       "</table>\n",
       "</div>"
      ],
      "text/plain": [
       "             POS         Mat        Inns          NO        Runs         Avg  \\\n",
       "count  133.00000  133.000000  133.000000  133.000000  133.000000  133.000000   \n",
       "mean    67.00000    9.631579    6.631579    1.616541  139.157895   19.366241   \n",
       "std     38.53786    4.893523    5.030925    1.550766  167.293103   18.053343   \n",
       "min      1.00000    1.000000    1.000000    0.000000    0.000000    0.000000   \n",
       "25%     34.00000    5.000000    2.000000    0.000000   10.000000    6.000000   \n",
       "50%     67.00000   10.000000    5.000000    1.000000   59.000000   15.000000   \n",
       "75%    100.00000   14.000000   11.000000    2.000000  232.000000   29.900000   \n",
       "max    133.00000   17.000000   17.000000    7.000000  670.000000  101.000000   \n",
       "\n",
       "               BF          SR         100          50          4s          6s  \n",
       "count  133.000000  133.000000  133.000000  133.000000  133.000000  133.000000  \n",
       "mean   105.714286  107.364737    0.037594    0.827068   11.894737    5.518797  \n",
       "std    122.253870   44.584031    0.227170    1.351269   15.521375    7.393283  \n",
       "min      1.000000    0.000000    0.000000    0.000000    0.000000    0.000000  \n",
       "25%     12.000000   88.750000    0.000000    0.000000    0.000000    0.000000  \n",
       "50%     53.000000  116.840000    0.000000    0.000000    5.000000    2.000000  \n",
       "75%    169.000000  137.500000    0.000000    1.000000   20.000000    9.000000  \n",
       "max    518.000000  191.420000    2.000000    5.000000   67.000000   30.000000  "
      ]
     },
     "execution_count": 8,
     "metadata": {},
     "output_type": "execute_result"
    }
   ],
   "source": [
    "ipl.describe()"
   ]
  },
  {
   "cell_type": "code",
   "execution_count": 9,
   "id": "f44a3c7c",
   "metadata": {},
   "outputs": [
    {
     "data": {
      "text/plain": [
       "Index(['POS', 'Player', 'Mat', 'Inns', 'NO', 'Runs', 'HS', 'Avg', 'BF', 'SR',\n",
       "       '100', '50', '4s', '6s'],\n",
       "      dtype='object')"
      ]
     },
     "execution_count": 9,
     "metadata": {},
     "output_type": "execute_result"
    }
   ],
   "source": [
    "ipl.columns"
   ]
  },
  {
   "cell_type": "code",
   "execution_count": 17,
   "id": "35e6c765",
   "metadata": {},
   "outputs": [
    {
     "data": {
      "text/plain": [
       "17"
      ]
     },
     "execution_count": 17,
     "metadata": {},
     "output_type": "execute_result"
    }
   ],
   "source": [
    "max_val = ipl['Mat'].max();\n",
    "max_val"
   ]
  },
  {
   "cell_type": "markdown",
   "id": "14078fa0",
   "metadata": {},
   "source": [
    "Q1. What is the maximum number of matches played by an individual player in a season?"
   ]
  },
  {
   "cell_type": "code",
   "execution_count": 43,
   "id": "d5ede41c",
   "metadata": {},
   "outputs": [
    {
     "name": "stdout",
     "output_type": "stream",
     "text": [
      "Maximum number of matches played by an individual player in a season = 17\n",
      "List of the players with maximun 17 no of matches\n",
      "            Player  Mat\n",
      "1   Shikhar Dhawan   17\n",
      "3     Shreyas Iyer   17\n",
      "19  Marcus Stoinis   17\n",
      "67   Kagiso Rabada   17\n"
     ]
    }
   ],
   "source": [
    "max_val = ipl['Mat'].max();\n",
    "max_row = ipl[ipl['Mat'] == max_val]\n",
    "List_Player = max_row[['Player','Mat']]\n",
    "print(\"Maximum number of matches played by an individual player in a season =\", max_val)\n",
    "print(\"List of the players with maximun\", max_val, \"no of matches\")\n",
    "print(List_Player)"
   ]
  },
  {
   "cell_type": "markdown",
   "id": "7889eeaa",
   "metadata": {},
   "source": [
    "------------------------------------------------------------------------------------------------------"
   ]
  },
  {
   "cell_type": "code",
   "execution_count": 53,
   "id": "35fa0369",
   "metadata": {},
   "outputs": [
    {
     "data": {
      "text/plain": [
       "101"
      ]
     },
     "execution_count": 53,
     "metadata": {},
     "output_type": "execute_result"
    }
   ],
   "source": [
    "max_avg = ipl['Avg'].max();\n",
    "int_Avg = int(max_avg)\n",
    "int_Avg"
   ]
  },
  {
   "cell_type": "markdown",
   "id": "8f839238",
   "metadata": {},
   "source": [
    "Q2. What is the highest average of a player in a season?"
   ]
  },
  {
   "cell_type": "code",
   "execution_count": 64,
   "id": "116fc5ee",
   "metadata": {
    "scrolled": true
   },
   "outputs": [
    {
     "name": "stdout",
     "output_type": "stream",
     "text": [
      "57    Deepak Hooda\n",
      "Name: Player, dtype: object is the player with higest average  with  101\n"
     ]
    }
   ],
   "source": [
    "max_Avg2 = ipl['Avg'].max();\n",
    "max_AvgtoInt = int(max_val2)\n",
    "max_row = ipl[ipl['Avg'] == max_AvgtoInt]\n",
    "highestAvgPlayer = max_row['Player']\n",
    "print(highestAvgPlayer, \"is the player with higest average  with \", max_AvgtoInt)\n"
   ]
  },
  {
   "cell_type": "markdown",
   "id": "9993cd02",
   "metadata": {},
   "source": [
    "----------------------------------------------------------------------------------------------------------------------------"
   ]
  },
  {
   "cell_type": "markdown",
   "id": "c92df8e1",
   "metadata": {},
   "source": [
    "Q3 What is the average number of matches played by the players in a season?"
   ]
  },
  {
   "cell_type": "code",
   "execution_count": null,
   "id": "36d707cd",
   "metadata": {},
   "outputs": [],
   "source": []
  },
  {
   "cell_type": "markdown",
   "id": "55a1eee1",
   "metadata": {},
   "source": [
    "----------------------------------------------------------------------------------------------------------------------------"
   ]
  },
  {
   "cell_type": "markdown",
   "id": "5be280c2",
   "metadata": {},
   "source": [
    "Q4. Please check the correlation between all the features."
   ]
  },
  {
   "cell_type": "code",
   "execution_count": 72,
   "id": "9b83afb0",
   "metadata": {},
   "outputs": [
    {
     "data": {
      "text/plain": [
       "POS         int64\n",
       "Player     object\n",
       "Mat         int64\n",
       "Inns        int64\n",
       "NO          int64\n",
       "Runs        int64\n",
       "HS         object\n",
       "Avg       float64\n",
       "BF          int64\n",
       "SR        float64\n",
       "100         int64\n",
       "50          int64\n",
       "4s          int64\n",
       "6s          int64\n",
       "dtype: object"
      ]
     },
     "execution_count": 72,
     "metadata": {},
     "output_type": "execute_result"
    }
   ],
   "source": [
    "ipl.columns\n",
    "ipl.dtypes"
   ]
  },
  {
   "cell_type": "code",
   "execution_count": 1,
   "id": "a7d00b76",
   "metadata": {},
   "outputs": [
    {
     "ename": "NameError",
     "evalue": "name 'ipl' is not defined",
     "output_type": "error",
     "traceback": [
      "\u001b[1;31m---------------------------------------------------------------------------\u001b[0m",
      "\u001b[1;31mNameError\u001b[0m                                 Traceback (most recent call last)",
      "Cell \u001b[1;32mIn[1], line 1\u001b[0m\n\u001b[1;32m----> 1\u001b[0m Ipl_upd\u001b[38;5;241m=\u001b[39m \u001b[43mipl\u001b[49m\u001b[38;5;241m.\u001b[39mdrop ([\u001b[38;5;124m'\u001b[39m\u001b[38;5;124mPOS\u001b[39m\u001b[38;5;124m'\u001b[39m,\u001b[38;5;124m'\u001b[39m\u001b[38;5;124mPlayer\u001b[39m\u001b[38;5;124m'\u001b[39m],axis\u001b[38;5;241m=\u001b[39m\u001b[38;5;241m1\u001b[39m)\n\u001b[0;32m      2\u001b[0m plt\u001b[38;5;241m.\u001b[39mfigure(figsize\u001b[38;5;241m=\u001b[39m(\u001b[38;5;241m10\u001b[39m,\u001b[38;5;241m5\u001b[39m))\n\u001b[0;32m      3\u001b[0m sns\u001b[38;5;241m.\u001b[39mheatmap(Ipl_upd\u001b[38;5;241m.\u001b[39mcorr(),cmap\u001b[38;5;241m=\u001b[39m\u001b[38;5;124m'\u001b[39m\u001b[38;5;124mYlOrBr\u001b[39m\u001b[38;5;124m'\u001b[39m)\n",
      "\u001b[1;31mNameError\u001b[0m: name 'ipl' is not defined"
     ]
    }
   ],
   "source": [
    "Ipl_upd= ipl.drop (['POS','Player'],axis=1)\n",
    "plt.figure(figsize=(10,5))\n",
    "sns.heatmap(Ipl_upd.corr(),cmap='YlOrBr')"
   ]
  },
  {
   "cell_type": "code",
   "execution_count": null,
   "id": "ce2bb91c",
   "metadata": {},
   "outputs": [],
   "source": [
    "plt.figure(figsize=(10,8))\n",
    "sns.heatmap(ipl.corr(),cmap='YlOrBr')"
   ]
  },
  {
   "cell_type": "code",
   "execution_count": 74,
   "id": "0b040685",
   "metadata": {},
   "outputs": [
    {
     "data": {
      "text/plain": [
       "83"
      ]
     },
     "execution_count": 74,
     "metadata": {},
     "output_type": "execute_result"
    }
   ],
   "source": [
    "object_value = \"83\"\n",
    "int_val = int(object_value)\n",
    "int_val"
   ]
  },
  {
   "cell_type": "markdown",
   "id": "6415fe8a",
   "metadata": {},
   "source": [
    "----------------------------------------------------------------------------------------------"
   ]
  }
 ],
 "metadata": {
  "kernelspec": {
   "display_name": "Python 3 (ipykernel)",
   "language": "python",
   "name": "python3"
  },
  "language_info": {
   "codemirror_mode": {
    "name": "ipython",
    "version": 3
   },
   "file_extension": ".py",
   "mimetype": "text/x-python",
   "name": "python",
   "nbconvert_exporter": "python",
   "pygments_lexer": "ipython3",
   "version": "3.10.9"
  }
 },
 "nbformat": 4,
 "nbformat_minor": 5
}
